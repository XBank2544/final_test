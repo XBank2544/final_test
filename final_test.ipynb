{
 "cells": [
  {
   "cell_type": "markdown",
   "metadata": {},
   "source": [
    "# ข้อสอบปลายภาควิชาการประมวลผลข้อมูลขนาดใหญ่"
   ]
  },
  {
   "cell_type": "raw",
   "metadata": {},
   "source": [
    "# ชื่อ - นามสกุล\n",
    "นาย ปรเมษฐ สุขะตะ 6212732104\n"
   ]
  },
  {
   "cell_type": "code",
   "execution_count": 19,
   "metadata": {},
   "outputs": [
    {
     "data": {
      "text/plain": [
       "'1.20.1'"
      ]
     },
     "execution_count": 19,
     "metadata": {},
     "output_type": "execute_result"
    }
   ],
   "source": [
    "import matplotlib.pyplot as plt\n",
    "import numpy as np\n",
    "np.__version__"
   ]
  },
  {
   "cell_type": "code",
   "execution_count": 20,
   "metadata": {},
   "outputs": [],
   "source": [
    "import pandas as pd"
   ]
  },
  {
   "cell_type": "code",
   "execution_count": 22,
   "metadata": {},
   "outputs": [
    {
     "data": {
      "text/plain": [
       "'1.2.4'"
      ]
     },
     "execution_count": 22,
     "metadata": {},
     "output_type": "execute_result"
    }
   ],
   "source": [
    "pd.__version__"
   ]
  },
  {
   "cell_type": "code",
   "execution_count": 50,
   "metadata": {},
   "outputs": [],
   "source": [
    "import csv"
   ]
  },
  {
   "cell_type": "markdown",
   "metadata": {},
   "source": [
    "## 1. จงสร้าง ndarray ดังนี้"
   ]
  },
  {
   "cell_type": "code",
   "execution_count": null,
   "metadata": {},
   "outputs": [],
   "source": [
    "'''\n",
    "array([[4.   , 3.285, 3.5  , 4.   ],\n",
    "       [3.2  , 3.8  , 4.   , 4.   ],\n",
    "       [3.96 , 3.92 , 4.   , 4.   ]], dtype=float16)\n",
    "'''"
   ]
  },
  {
   "cell_type": "code",
   "execution_count": 82,
   "metadata": {},
   "outputs": [
    {
     "data": {
      "text/plain": [
       "array([[4.   , 3.285, 3.5  , 4.   ],\n",
       "       [3.2  , 3.8  , 4.   , 4.   ],\n",
       "       [3.96 , 3.92 , 4.   , 4.   ]], dtype=float16)"
      ]
     },
     "execution_count": 82,
     "metadata": {},
     "output_type": "execute_result"
    }
   ],
   "source": [
    "# เขียนคำตอบลงในเชลนี้\n",
    "gpas = np.array(\n",
    "    [\n",
    "        [4.0, 3.286, 3.5, 4.0],\n",
    "        [3.2, 3.8, 4.0, 4.0],\n",
    "        [3.96, 3.92, 4.0, 4.0]\n",
    "    ], \n",
    "    np.float16)\n",
    "\n",
    "students_gpas"
   ]
  },
  {
   "cell_type": "markdown",
   "metadata": {},
   "source": [
    "## 2. จงแสดงจำนวน แถว และ คอลัมน์ ของ array ที่สร้างขึ้นจากข้อ 1."
   ]
  },
  {
   "cell_type": "code",
   "execution_count": 24,
   "metadata": {},
   "outputs": [
    {
     "data": {
      "text/plain": [
       "(3, 4)"
      ]
     },
     "execution_count": 24,
     "metadata": {},
     "output_type": "execute_result"
    }
   ],
   "source": [
    "# เขียนคำตอบลงในเชลนี้\n",
    "students_gpas.shape\n"
   ]
  },
  {
   "cell_type": "markdown",
   "metadata": {},
   "source": [
    "## 3. จงสร้าง array ดังต่อไปนี้"
   ]
  },
  {
   "cell_type": "code",
   "execution_count": null,
   "metadata": {},
   "outputs": [],
   "source": [
    "'''\n",
    "[[ 1  2  3  4]\n",
    " [ 5  6  7  8]\n",
    " [ 9 10 11 12]]\n",
    "'''"
   ]
  },
  {
   "cell_type": "code",
   "execution_count": 36,
   "metadata": {
    "scrolled": true
   },
   "outputs": [
    {
     "name": "stdout",
     "output_type": "stream",
     "text": [
      "[[ 1  2  3  4]\n",
      " [ 5  6  7  8]\n",
      " [ 9 10 11 12]]\n"
     ]
    }
   ],
   "source": [
    "# เขียนคำตอบลงในเชลนี้\n",
    "a = np.array([[ 1 , 2 , 3 , 4],[ 5 , 6 , 7 , 8],[ 9 ,10 ,11 ,12]])\n",
    "print(a)"
   ]
  },
  {
   "cell_type": "markdown",
   "metadata": {},
   "source": [
    "## 4. จากข้อที่ 3 จงแสดงข้อมูลดังต่อไปนี้"
   ]
  },
  {
   "cell_type": "code",
   "execution_count": null,
   "metadata": {},
   "outputs": [],
   "source": [
    "'''\n",
    "[5 6 7 8]\n",
    "'''"
   ]
  },
  {
   "cell_type": "code",
   "execution_count": 78,
   "metadata": {},
   "outputs": [
    {
     "name": "stdout",
     "output_type": "stream",
     "text": [
      "[5 6 7 8]\n"
     ]
    }
   ],
   "source": [
    "# เขียนคำตอบลงในเชลนี้\n",
    "a = np.array([[1,2,3,4], [5,6,7,8], [9,10,11,12]])\n",
    "row_r1 = a[1,:]\n",
    "print(row_r1)"
   ]
  },
  {
   "cell_type": "markdown",
   "metadata": {},
   "source": [
    "## 5. จากข้อที่ 3. จงแสดงข้อมูลดังต่อไปนี้"
   ]
  },
  {
   "cell_type": "code",
   "execution_count": null,
   "metadata": {},
   "outputs": [],
   "source": [
    "'''\n",
    "array([12, 11, 10]\n",
    "'''"
   ]
  },
  {
   "cell_type": "code",
   "execution_count": 72,
   "metadata": {},
   "outputs": [
    {
     "data": {
      "text/plain": [
       "array([12, 11, 10])"
      ]
     },
     "execution_count": 72,
     "metadata": {},
     "output_type": "execute_result"
    }
   ],
   "source": [
    "# เขียนคำตอบลงในเชลนี้\n",
    "a = np.array([[1,2,3,4], [5,6,7,8], [9,10,11,12]])\n",
    "lt = a[2, 1:]\n",
    "lt[::-1]\n"
   ]
  },
  {
   "cell_type": "markdown",
   "metadata": {},
   "source": [
    "## 6. จงเขียนโปรแกรมที่ทำการเขียนข้อมูลต่อไปนี้ลงในไฟล์ ชื่อ file.txt"
   ]
  },
  {
   "cell_type": "code",
   "execution_count": null,
   "metadata": {},
   "outputs": [],
   "source": [
    "'''\n",
    "This is 1st line\n",
    "This is 2nd line\n",
    "This is 3rd line\n",
    "This is 4th line\n",
    "This is 5th line\n",
    "'''"
   ]
  },
  {
   "cell_type": "code",
   "execution_count": 81,
   "metadata": {},
   "outputs": [
    {
     "name": "stdout",
     "output_type": "stream",
     "text": [
      "This is 1st line\n",
      "This is 2nd line\n",
      "This is 3rd line\n",
      "This is 4th line\n",
      "This is 5th line\n",
      "Complete\n"
     ]
    }
   ],
   "source": [
    "# เขียนคำตอบลงในเชลนี้\n",
    "data = [\"This is 1st line\",\n",
    "        \"This is 2nd line\",\n",
    "        \"This is 3rd line\",\n",
    "        \"This is 4th line\",\n",
    "        \"This is 5th line\"]\n",
    "\n",
    "with open('./data/file.txt', 'w') as fp:\n",
    "    for line in data:\n",
    "        fp.write(line+\"\\n\")\n",
    "        \n",
    "with open('./data/file.txt', 'r') as fp:  \n",
    "    line = fp.readline()\n",
    "    while line:\n",
    "        print(\"{}\".format(line.strip()))\n",
    "        line = fp.readline()\n",
    "print(\"Complete\")\n"
   ]
  },
  {
   "cell_type": "markdown",
   "metadata": {},
   "source": [
    "## 7. จงเขียนข้อมูลต่อไปนี้ลงในไฟล์ในรูปแบบ CSV"
   ]
  },
  {
   "cell_type": "code",
   "execution_count": null,
   "metadata": {},
   "outputs": [],
   "source": [
    "'''\n",
    "myData = [\n",
    "            [\"first_name\", \"second_name\", \"Grade\"],\n",
    "            ['Alex', 'Brian', 'A'],\n",
    "            ['Tom', 'Smith', 'B']\n",
    "        ]\n",
    "'''"
   ]
  },
  {
   "cell_type": "code",
   "execution_count": 57,
   "metadata": {},
   "outputs": [],
   "source": [
    "# เขียนคำตอบลงในเชลนี้\n",
    "import csv\n",
    "myData = [\n",
    "            [\"first_name\", \"second_name\", \"Grade\"],\n",
    "            ['Alex', 'Brian', 'A'],\n",
    "            ['Tom', 'Smith', 'B']\n",
    "        ]\n",
    "with open('./data/data02.csv', 'w') as myFile:\n",
    "    writer = csv.writer(myFile)\n",
    "    writer.writerows(myData)\n",
    "print(\"Complete\")"
   ]
  },
  {
   "cell_type": "markdown",
   "metadata": {},
   "source": [
    "## 8.จงนำข้อมูลต่อไปนี้ไปสร้างเป็น Data Frame"
   ]
  },
  {
   "cell_type": "code",
   "execution_count": null,
   "metadata": {},
   "outputs": [],
   "source": [
    "'''\n",
    "persons = {\n",
    "    \"ชื่อ\": [\"พิศาล\", \"ปรเมษฐ\", \"สมชาย\"],\n",
    "    \"สกุล\": [\"สุขขี\", \"สุขะตะ\", \"รักดี\"],\n",
    "    \"โทร\": [\"0842982456\", \"0889152456\", \"0886123546\"]\n",
    "}\n",
    "'''"
   ]
  },
  {
   "cell_type": "code",
   "execution_count": 59,
   "metadata": {},
   "outputs": [
    {
     "data": {
      "text/html": [
       "<div>\n",
       "<style scoped>\n",
       "    .dataframe tbody tr th:only-of-type {\n",
       "        vertical-align: middle;\n",
       "    }\n",
       "\n",
       "    .dataframe tbody tr th {\n",
       "        vertical-align: top;\n",
       "    }\n",
       "\n",
       "    .dataframe thead th {\n",
       "        text-align: right;\n",
       "    }\n",
       "</style>\n",
       "<table border=\"1\" class=\"dataframe\">\n",
       "  <thead>\n",
       "    <tr style=\"text-align: right;\">\n",
       "      <th></th>\n",
       "      <th>ชื่อ</th>\n",
       "      <th>สกุล</th>\n",
       "      <th>โทร</th>\n",
       "    </tr>\n",
       "  </thead>\n",
       "  <tbody>\n",
       "    <tr>\n",
       "      <th>0</th>\n",
       "      <td>พิศาล</td>\n",
       "      <td>สุขขี</td>\n",
       "      <td>0842982456</td>\n",
       "    </tr>\n",
       "    <tr>\n",
       "      <th>1</th>\n",
       "      <td>ปรเมษฐ</td>\n",
       "      <td>สุขะตะ</td>\n",
       "      <td>0889152456</td>\n",
       "    </tr>\n",
       "    <tr>\n",
       "      <th>2</th>\n",
       "      <td>สมชาย</td>\n",
       "      <td>รักดี</td>\n",
       "      <td>0886123546</td>\n",
       "    </tr>\n",
       "  </tbody>\n",
       "</table>\n",
       "</div>"
      ],
      "text/plain": [
       "     ชื่อ    สกุล         โทร\n",
       "0   พิศาล   สุขขี  0842982456\n",
       "1  ปรเมษฐ  สุขะตะ  0889152456\n",
       "2   สมชาย   รักดี  0886123546"
      ]
     },
     "execution_count": 59,
     "metadata": {},
     "output_type": "execute_result"
    }
   ],
   "source": [
    "# เขียนคำตอบลงในเชลนี้\n",
    "persons = {\n",
    "    \"ชื่อ\": [\"พิศาล\", \"ปรเมษฐ\", \"สมชาย\"],\n",
    "    \"สกุล\": [\"สุขขี\", \"สุขะตะ\", \"รักดี\"],\n",
    "    \"โทร\": [\"0842982456\", \"0889152456\", \"0886123546\"]\n",
    "}\n",
    "data = pd.DataFrame(persons)\n",
    "data.head()"
   ]
  },
  {
   "cell_type": "markdown",
   "metadata": {},
   "source": [
    "## 9. จาก Data Frame ในข้อที่ 8 จงแสดงเฉพาะคอลัม เบอร์โทรศัพท์"
   ]
  },
  {
   "cell_type": "code",
   "execution_count": 46,
   "metadata": {},
   "outputs": [
    {
     "data": {
      "text/html": [
       "<div>\n",
       "<style scoped>\n",
       "    .dataframe tbody tr th:only-of-type {\n",
       "        vertical-align: middle;\n",
       "    }\n",
       "\n",
       "    .dataframe tbody tr th {\n",
       "        vertical-align: top;\n",
       "    }\n",
       "\n",
       "    .dataframe thead th {\n",
       "        text-align: right;\n",
       "    }\n",
       "</style>\n",
       "<table border=\"1\" class=\"dataframe\">\n",
       "  <thead>\n",
       "    <tr style=\"text-align: right;\">\n",
       "      <th></th>\n",
       "      <th>โทร</th>\n",
       "    </tr>\n",
       "  </thead>\n",
       "  <tbody>\n",
       "    <tr>\n",
       "      <th>0</th>\n",
       "      <td>0842982456</td>\n",
       "    </tr>\n",
       "    <tr>\n",
       "      <th>1</th>\n",
       "      <td>0889152456</td>\n",
       "    </tr>\n",
       "    <tr>\n",
       "      <th>2</th>\n",
       "      <td>0886123546</td>\n",
       "    </tr>\n",
       "  </tbody>\n",
       "</table>\n",
       "</div>"
      ],
      "text/plain": [
       "          โทร\n",
       "0  0842982456\n",
       "1  0889152456\n",
       "2  0886123546"
      ]
     },
     "execution_count": 46,
     "metadata": {},
     "output_type": "execute_result"
    }
   ],
   "source": [
    "# เขียนคำตอบลงในเชลนี้\n",
    "data[[\"โทร\"]]\n"
   ]
  },
  {
   "cell_type": "markdown",
   "metadata": {},
   "source": [
    "## 10. จาก Data Frame ในข้อที่ 8 จงแสดงเฉพาะข้อมูลของ พิศาล"
   ]
  },
  {
   "cell_type": "code",
   "execution_count": 47,
   "metadata": {},
   "outputs": [],
   "source": [
    "# เขียนคำตอบลงในเชลนี้\n",
    "tel = data[data[\"ชื่อ\"]=='พิศาล']\n"
   ]
  },
  {
   "cell_type": "code",
   "execution_count": 48,
   "metadata": {},
   "outputs": [
    {
     "data": {
      "text/html": [
       "<div>\n",
       "<style scoped>\n",
       "    .dataframe tbody tr th:only-of-type {\n",
       "        vertical-align: middle;\n",
       "    }\n",
       "\n",
       "    .dataframe tbody tr th {\n",
       "        vertical-align: top;\n",
       "    }\n",
       "\n",
       "    .dataframe thead th {\n",
       "        text-align: right;\n",
       "    }\n",
       "</style>\n",
       "<table border=\"1\" class=\"dataframe\">\n",
       "  <thead>\n",
       "    <tr style=\"text-align: right;\">\n",
       "      <th></th>\n",
       "      <th>ชื่อ</th>\n",
       "      <th>สกุล</th>\n",
       "      <th>โทร</th>\n",
       "    </tr>\n",
       "  </thead>\n",
       "  <tbody>\n",
       "    <tr>\n",
       "      <th>0</th>\n",
       "      <td>พิศาล</td>\n",
       "      <td>สุขขี</td>\n",
       "      <td>0842982456</td>\n",
       "    </tr>\n",
       "  </tbody>\n",
       "</table>\n",
       "</div>"
      ],
      "text/plain": [
       "    ชื่อ   สกุล         โทร\n",
       "0  พิศาล  สุขขี  0842982456"
      ]
     },
     "execution_count": 48,
     "metadata": {},
     "output_type": "execute_result"
    }
   ],
   "source": [
    "tel"
   ]
  },
  {
   "cell_type": "code",
   "execution_count": null,
   "metadata": {},
   "outputs": [],
   "source": []
  }
 ],
 "metadata": {
  "kernelspec": {
   "display_name": "Python 3",
   "language": "python",
   "name": "python3"
  },
  "language_info": {
   "codemirror_mode": {
    "name": "ipython",
    "version": 3
   },
   "file_extension": ".py",
   "mimetype": "text/x-python",
   "name": "python",
   "nbconvert_exporter": "python",
   "pygments_lexer": "ipython3",
   "version": "3.8.8"
  }
 },
 "nbformat": 4,
 "nbformat_minor": 4
}
